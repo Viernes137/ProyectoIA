{
 "cells": [
  {
   "cell_type": "code",
   "execution_count": 43,
   "metadata": {},
   "outputs": [
    {
     "name": "stdout",
     "output_type": "stream",
     "text": [
      "                                              modelo año_registro  \\\n",
      "0                    2017 Mercedes-Benz S-Class S400       jul-17   \n",
      "1  2020 Nissan Magnite Turbo CVT XV Premium Opt BSVI       Jan-21   \n",
      "2                       2018 BMW X1 sDrive 20d xLine       Sep-18   \n",
      "3                           2019 Kia Seltos GTX Plus       Dec-19   \n",
      "4                    2019 Skoda Superb LK 1.8 TSI AT       Aug-19   \n",
      "\n",
      "   km_recorridos  kilometraje(kmpl)  caballos_fuerza  precio_dolares(miles)  \n",
      "0          56000               7.81              394                  63.75  \n",
      "1          30615              17.40              118                   8.99  \n",
      "2          24000              20.68              144                  23.75  \n",
      "3          18378              16.50              367                  13.56  \n",
      "4          44900              14.67              141                  24.00  \n"
     ]
    }
   ],
   "source": [
    "import numpy as np\n",
    "import matplotlib.pyplot as plt\n",
    "from sklearn.linear_model import LinearRegression\n",
    "import pandas as pd\n",
    "\n",
    "dataSet = pd.read_csv(\"Carros_Usados_Dataset - Used Car Dataset.csv\")\n",
    "print(dataSet.head())\n",
    "\n"
   ]
  },
  {
   "cell_type": "code",
   "execution_count": 44,
   "metadata": {},
   "outputs": [
    {
     "name": "stdout",
     "output_type": "stream",
     "text": [
      "       km_recorridos  kilometraje(kmpl)  caballos_fuerza  \\\n",
      "count     500.000000         500.000000       500.000000   \n",
      "mean    48145.280000          17.567660       246.396000   \n",
      "std     26916.506686           8.453698        86.890247   \n",
      "min       620.000000           7.810000       100.000000   \n",
      "25%     30000.000000          14.285000       172.750000   \n",
      "50%     46926.500000          17.800000       246.000000   \n",
      "75%     64000.000000          19.950000       320.000000   \n",
      "max    154000.000000         147.510000       400.000000   \n",
      "\n",
      "       precio_dolares(miles)  \n",
      "count              500.00000  \n",
      "mean               297.26080  \n",
      "std               4421.69376  \n",
      "min                  1.09000  \n",
      "25%                  5.42250  \n",
      "50%                  9.27500  \n",
      "75%                 22.50000  \n",
      "max              70000.00000  \n"
     ]
    }
   ],
   "source": [
    "print(dataSet.describe())"
   ]
  },
  {
   "cell_type": "markdown",
   "metadata": {},
   "source": [
    "## Pasar a arreglos de NumPy"
   ]
  },
  {
   "cell_type": "code",
   "execution_count": null,
   "metadata": {},
   "outputs": [],
   "source": [
    "arr_mod = dataSet['modelo'].to_numpy()\n",
    "\n",
    "arr_reg = dataSet['año_registro'].to_numpy()\n",
    "arr_kmrec = dataSet['km_recorridos'].to_numpy()\n",
    "arr_klmt = dataSet['kilometraje(kmpl)'].to_numpy() \n",
    "arr_cdf = dataSet['caballos_fuerza'].to_numpy() \n",
    "\n",
    "\n",
    "arr_price = dataSet['precio_dolares(miles)'].to_numpy()"
   ]
  },
  {
   "cell_type": "markdown",
   "metadata": {},
   "source": [
    "# Correccion de el tipo de dato de año"
   ]
  },
  {
   "cell_type": "code",
   "execution_count": null,
   "metadata": {},
   "outputs": [
    {
     "data": {
      "text/plain": [
       "numpy.int64"
      ]
     },
     "execution_count": 42,
     "metadata": {},
     "output_type": "execute_result"
    }
   ],
   "source": [
    "for i in range(len(arr_reg)):\n",
    "    if len(arr_reg[i]) == 4 :\n",
    "        pass\n",
    "    else:\n",
    "        arr_reg[i] = '20'+ arr_reg[i][4:6] \n",
    "\n",
    "arr_reg = arr_reg.astype(int)\n",
    "\n",
    "type(arr_reg[0])"
   ]
  },
  {
   "cell_type": "markdown",
   "metadata": {},
   "source": [
    "## creamos los modelos para analizar los datos\n",
    "y los entrenamos"
   ]
  },
  {
   "cell_type": "code",
   "execution_count": 47,
   "metadata": {},
   "outputs": [],
   "source": [
    "modelo_registro = LinearRegression()\n",
    "modelo_caballos = LinearRegression()\n",
    "modelo_rendimiento = LinearRegression()\n",
    "modelo_kiloreco = LinearRegression()"
   ]
  },
  {
   "cell_type": "code",
   "execution_count": 49,
   "metadata": {},
   "outputs": [
    {
     "data": {
      "image/png": "[encoded data removed]",
      "text/plain": [
       "<Figure size 640x480 with 1 Axes>"
      ]
     },
     "metadata": {},
     "output_type": "display_data"
    }
   ],
   "source": [
    "plt.scatter(arr_reg,arr_price)\n",
    "plt.show()"
   ]
  },
  {
   "cell_type": "markdown",
   "metadata": {},
   "source": [
    "posible error en los datos  \n",
    "Ford Figo 2011 vale 70,000 miles de dolares "
   ]
  },
  {
   "cell_type": "code",
   "execution_count": null,
   "metadata": {},
   "outputs": [],
   "source": []
  }
 ],
 "metadata": {
  "kernelspec": {
   "display_name": "ClaseIA",
   "language": "python",
   "name": "python3"
  },
  "language_info": {
   "codemirror_mode": {
    "name": "ipython",
    "version": 3
   },
   "file_extension": ".py",
   "mimetype": "text/x-python",
   "name": "python",
   "nbconvert_exporter": "python",
   "pygments_lexer": "ipython3",
   "version": "3.10.16"
  }
 },
 "nbformat": 4,
 "nbformat_minor": 2
}
